{
 "cells": [
  {
   "cell_type": "markdown",
   "metadata": {},
   "source": [
    "# Reactive Robot Programming"
   ]
  },
  {
   "cell_type": "markdown",
   "metadata": {},
   "source": [
    "In this notebook we will develop a library for reactive programming of the Aldebaran Nao robot. We will first let the robot look around for red balls, and make the robot point towards red balls which are within target range.  "
   ]
  },
  {
   "cell_type": "markdown",
   "metadata": {},
   "source": [
    "First we import the contents of Reactive Extensions (rx), naoqi and the Reactive Extensions for Qi libraries."
   ]
  },
  {
   "cell_type": "code",
   "execution_count": null,
   "metadata": {
    "collapsed": false
   },
   "outputs": [],
   "source": [
    "from rx import *\n",
    "from naoqi import *\n",
    "import datetime\n",
    "from rx.subjects import Subject\n",
    "from threading import Thread\n",
    "import sys, time\n",
    "\n",
    "Stream = Observable"
   ]
  },
  {
   "cell_type": "markdown",
   "metadata": {},
   "source": [
    "We will be connecting to a real Nao, for which we need to configure the IP address. Change the line below to match the IP address of your Nao robot."
   ]
  },
  {
   "cell_type": "code",
   "execution_count": null,
   "metadata": {
    "collapsed": true
   },
   "outputs": [],
   "source": [
    "nao_address = \"tcp://192.168.11.162:9559\""
   ]
  },
  {
   "cell_type": "markdown",
   "metadata": {},
   "source": [
    "We use the Qi framework to create a session for this robot."
   ]
  },
  {
   "cell_type": "code",
   "execution_count": null,
   "metadata": {
    "collapsed": false
   },
   "outputs": [],
   "source": [
    "session = qi.Session(nao_address)"
   ]
  },
  {
   "cell_type": "markdown",
   "metadata": {},
   "source": [
    "To debug our code, we can print the last value. An easy way to print a value in Rx is to subscribe a print function to a stream. In Python 2 however we cannot directly use print as a function. We can however import a print function from the future library."
   ]
  },
  {
   "cell_type": "code",
   "execution_count": null,
   "metadata": {
    "collapsed": true
   },
   "outputs": [],
   "source": [
    "from __future__ import print_function"
   ]
  },
  {
   "cell_type": "markdown",
   "metadata": {},
   "source": [
    "## Bridging naoqi and Reactive Extensions\n",
    "\n",
    "The Qi framework provides us with some features for responding to memory events. ReactiveX has its own model for reactive programming. To bridge Qi and Rx, we create a Subject.\n",
    "\n",
    "Because the subject has to continue monitoring the memory after it has been created, we run it in its own thread."
   ]
  },
  {
   "cell_type": "code",
   "execution_count": null,
   "metadata": {
    "collapsed": false
   },
   "outputs": [],
   "source": [
    "class QiMemorySubject(Thread):\n",
    "    def __init__(self, field, session):\n",
    "        Thread.__init__(self)\n",
    "        self.session = session\n",
    "        self.field = field\n",
    "        self.stopped = False\n",
    "        self.subject = Subject()\n",
    "        \n",
    "    def run(self):\n",
    "        mem = self.session.service(\"ALMemory\")\n",
    "        self.subscriber = mem.subscriber(self.field)\n",
    "        self.signal = self.subscriber.signal.connect(self.subject.on_next)\n",
    "        while not self.stopped:\n",
    "            time.sleep(1)\n",
    "        \n",
    "    def stop(self):\n",
    "        self.stopped = True\n",
    "        self.subscriber.signal.disconnect(self.signal)\n",
    "        print(\"Stopping\")"
   ]
  },
  {
   "cell_type": "markdown",
   "metadata": {},
   "source": [
    "## Listening for a red ball\n",
    "\n",
    "We can now easily create subjects listening to various sensors of the robot, such as red balls and blobs."
   ]
  },
  {
   "cell_type": "code",
   "execution_count": null,
   "metadata": {
    "collapsed": false
   },
   "outputs": [],
   "source": [
    "class RedBallSubject(QiMemorySubject):\n",
    "    def __init__(self, session):\n",
    "        QiMemorySubject.__init__(self, \"redBallDetected\", session)"
   ]
  },
  {
   "cell_type": "markdown",
   "metadata": {},
   "source": [
    "Then start a red ball subject which uses the camera of Nao to look for red balls. Because we designed the red ball subject class to extend the Qi memory subject, and Qi memory subject runs in its own thread, we have to start the thread to start listening."
   ]
  },
  {
   "cell_type": "code",
   "execution_count": null,
   "metadata": {
    "collapsed": false
   },
   "outputs": [],
   "source": [
    "redBallThread = RedBallSubject(session)\n",
    "redBallThread.daemon = True\n",
    "redBallThread.start()  # start the thread"
   ]
  },
  {
   "cell_type": "markdown",
   "metadata": {},
   "source": [
    "Nao should now be listening for red balls. To check if it is actually working, we can sample the subject. Because we do not want to spam our notebook, we set up a special stream which only returns the first red ball seen."
   ]
  },
  {
   "cell_type": "code",
   "execution_count": null,
   "metadata": {
    "collapsed": false
   },
   "outputs": [],
   "source": [
    "firstRedBall = redBallThread.subject.first()"
   ]
  },
  {
   "cell_type": "markdown",
   "metadata": {},
   "source": [
    "Let's debug our first red ball stream using print."
   ]
  },
  {
   "cell_type": "code",
   "execution_count": null,
   "metadata": {
    "collapsed": false
   },
   "outputs": [],
   "source": [
    "firstRedBallSub = firstRedBall.subscribe(lambda red_ball: print(\"Red ball spotted: \" + str(red_ball)))"
   ]
  },
  {
   "cell_type": "markdown",
   "metadata": {},
   "source": [
    "In robotics, printing values is used mainly for quick testing and debugging. A production program running on an autonomous robot should contain almost no calls to print, as there is no-one controlling the robot who would be interested in reading those prints. \n",
    "\n",
    "Before we go on, let's dispose of our temporary print function. We can do this by disposing the subscription we made."
   ]
  },
  {
   "cell_type": "code",
   "execution_count": null,
   "metadata": {
    "collapsed": false
   },
   "outputs": [],
   "source": [
    "firstRedBallSub.dispose()"
   ]
  },
  {
   "cell_type": "markdown",
   "metadata": {},
   "source": [
    "## Processing the data"
   ]
  },
  {
   "cell_type": "markdown",
   "metadata": {
    "collapsed": true
   },
   "source": [
    "RedBallDetection gives us a list containing the following values:\n",
    "* Timestamp (seconds, microseconds)\n",
    "* Ball info (center x, center y, size x, size y, all in radians)\n",
    "* Camera pose in torso frame\n",
    "* Camera pose in robot frame (average of both feet)\n",
    "* Camera id"
   ]
  },
  {
   "cell_type": "markdown",
   "metadata": {},
   "source": [
    "For convenience we create a class called Ball to hold the ball information. We overwrite the string magic method for pretty printing."
   ]
  },
  {
   "cell_type": "code",
   "execution_count": null,
   "metadata": {
    "collapsed": true
   },
   "outputs": [],
   "source": [
    "class Ball():\n",
    "    def __init__(self, x, y, width, height):\n",
    "        self.x = x\n",
    "        self.y = y\n",
    "        self.width = width\n",
    "        self.height = height\n",
    "    \n",
    "    def __str__(self):\n",
    "        template = \"Location of ball: (center x: %s rad, center y: %s rad, size x: %s rad, size y: %s rad)\"\n",
    "        return template % (self.x, self.y, self.width, self.height)"
   ]
  },
  {
   "cell_type": "markdown",
   "metadata": {},
   "source": [
    "Using a map operator we can get just the information we need, e.g. the ball info. We use our ball class for converting the list to an object. "
   ]
  },
  {
   "cell_type": "code",
   "execution_count": null,
   "metadata": {
    "collapsed": true
   },
   "outputs": [],
   "source": [
    "ball = redBallThread.subject.map(lambda ballInfo: Ball(*(ballInfo[1])))"
   ]
  },
  {
   "cell_type": "markdown",
   "metadata": {},
   "source": [
    "We debug the ball stream using a print subscription."
   ]
  },
  {
   "cell_type": "code",
   "execution_count": null,
   "metadata": {
    "collapsed": false
   },
   "outputs": [],
   "source": [
    "firstBall = ball.first()\n",
    "\n",
    "firstBallSubscription = firstBall.subscribe(print)"
   ]
  },
  {
   "cell_type": "markdown",
   "metadata": {},
   "source": [
    "To avoid too much spam, let's dispose of our print function."
   ]
  },
  {
   "cell_type": "code",
   "execution_count": null,
   "metadata": {
    "collapsed": false
   },
   "outputs": [],
   "source": [
    "firstBallSubscription.dispose()"
   ]
  },
  {
   "cell_type": "markdown",
   "metadata": {},
   "source": [
    "The ball detector produces a lot of events. For our use case we can instead sample the stream to reduce the amount of events which we need to handle."
   ]
  },
  {
   "cell_type": "code",
   "execution_count": null,
   "metadata": {
    "collapsed": true
   },
   "outputs": [],
   "source": [
    "ballSamples = ball.sample(500)"
   ]
  },
  {
   "cell_type": "markdown",
   "metadata": {},
   "source": [
    "To find out the distance between the robot and the ball, we have to do some simple trigonometry. We know that the formula for an angle $\\theta$ given the opposite side $A$ and adjacent side $B$ is given by the tangent.\n",
    "\n",
    "$tan(\\theta)=\\dfrac{A}{B}$\n",
    "\n",
    "In our case, we are given the angle $\\theta$. Given a $size$ which is half the height or width of the ball, i.e. the radius, we can calculate the $distance$ to the ball by using the tangent function:\n",
    "\n",
    "$distance = \\dfrac{\\dfrac{size}{2}}{tan(\\theta)} = \\dfrac{size}{2*tan(\\theta)}$\n",
    "\n",
    "In Python this is implemented as follows:"
   ]
  },
  {
   "cell_type": "code",
   "execution_count": null,
   "metadata": {
    "collapsed": true
   },
   "outputs": [],
   "source": [
    "from math import tan \n",
    "\n",
    "def distance_to_ball(ball_size, angle):\n",
    "    return ball_size / (2 * tan(angle))"
   ]
  },
  {
   "cell_type": "markdown",
   "metadata": {},
   "source": [
    "Let's test this for a ball with a size of 4 cm, with a reported angle of 45 degrees. If we fill these values into our formula we get:\n",
    "\n",
    "$distance = \\dfrac{4 cm}{2*tan(45^{\\circ})}=2cm$\n",
    "\n",
    "Note that the Python tangent function by default takes as parameter the angle in radians and not in degrees. Hence instead of using 45 degrees, we use $\\pi/4 rad$. "
   ]
  },
  {
   "cell_type": "code",
   "execution_count": null,
   "metadata": {
    "collapsed": false
   },
   "outputs": [],
   "source": [
    "from math import pi, radians\n",
    "\n",
    "%matplotlib inline\n",
    "\n",
    "import matplotlib.pyplot as plt\n",
    "import numpy as np\n",
    "\n",
    "plt.plot(range(1,46), [distance_to_ball(5, x) for x in [radians(l) for l in range(1,46)]])\n",
    "\n",
    "plt.xlabel('Angle (degree)')\n",
    "plt.ylabel('Distance (cm)')\n",
    "plt.title('Distance according to angle')\n",
    "plt.grid(True)\n",
    "plt.show()"
   ]
  },
  {
   "cell_type": "markdown",
   "metadata": {},
   "source": [
    "To improve the accuracy of the distance measurement we will use the average of the observed width and height. We write a function called dist2 which performs this for us."
   ]
  },
  {
   "cell_type": "code",
   "execution_count": null,
   "metadata": {
    "collapsed": true
   },
   "outputs": [],
   "source": [
    "def dist2(width, height): \n",
    "    return (1/4.) * (size/tan(width) + size/tan(height))"
   ]
  },
  {
   "cell_type": "markdown",
   "metadata": {},
   "source": [
    "Then we write a function ball_distance which uses dist2 for calculating the distance to the ball."
   ]
  },
  {
   "cell_type": "code",
   "execution_count": null,
   "metadata": {
    "collapsed": true
   },
   "outputs": [],
   "source": [
    "def ball_distance(ball): \n",
    "    return dist2(ball.width, ball.height)"
   ]
  },
  {
   "cell_type": "markdown",
   "metadata": {},
   "source": [
    "Using our new distance function, let's create a stream which gives us the distance to the ball."
   ]
  },
  {
   "cell_type": "code",
   "execution_count": null,
   "metadata": {
    "collapsed": false
   },
   "outputs": [],
   "source": [
    "distance = ballSamples.map(ball_distance)"
   ]
  },
  {
   "cell_type": "markdown",
   "metadata": {},
   "source": [
    "We can test our stream using print:"
   ]
  },
  {
   "cell_type": "code",
   "execution_count": null,
   "metadata": {
    "collapsed": false
   },
   "outputs": [],
   "source": [
    "firstRedBallDistanceSub = distance.first().subscribe(lambda distance: print(\"Distance: %s cm\" % (distance)))"
   ]
  },
  {
   "cell_type": "markdown",
   "metadata": {},
   "source": [
    "Again, let's dispose of our print function."
   ]
  },
  {
   "cell_type": "code",
   "execution_count": null,
   "metadata": {
    "collapsed": false
   },
   "outputs": [],
   "source": [
    "firstRedBallDistanceSub.dispose()"
   ]
  },
  {
   "cell_type": "markdown",
   "metadata": {},
   "source": [
    "## Controlling LEDs based on ball distance\n",
    "We can now calculate the distance to the ball. We can make the robot react differently depending on this distance. For example, let's change the light color of Nao's eyes based on the distance of the ball.\n",
    "\n",
    "We use the ALLeds module for controlling the LEDs of the robot."
   ]
  },
  {
   "cell_type": "code",
   "execution_count": null,
   "metadata": {
    "collapsed": true
   },
   "outputs": [],
   "source": [
    "leds = session.service(\"ALLeds\")\n",
    "leds.off(\"FaceLeds\")"
   ]
  },
  {
   "cell_type": "markdown",
   "metadata": {},
   "source": [
    "First we write a function to determine the brightness of the LEDs based on distance:"
   ]
  },
  {
   "cell_type": "code",
   "execution_count": null,
   "metadata": {
    "collapsed": false
   },
   "outputs": [],
   "source": [
    "def brightness(distance):\n",
    "    if distance > 20:\n",
    "        return 0\n",
    "    elif distance > 5:\n",
    "        return (-(distance-5)/15.) + 1\n",
    "    else:\n",
    "        return 1"
   ]
  },
  {
   "cell_type": "markdown",
   "metadata": {},
   "source": [
    "Then we write a function which sets the LED brightness based on the input."
   ]
  },
  {
   "cell_type": "code",
   "execution_count": null,
   "metadata": {
    "collapsed": true
   },
   "outputs": [],
   "source": [
    "def led_brightness(intensity):\n",
    "    leds.setIntensity(\"RightFaceLedsRed\", intensity)\n",
    "    leds.setIntensity(\"LeftFaceLedsRed\", intensity)"
   ]
  },
  {
   "cell_type": "markdown",
   "metadata": {},
   "source": [
    "We wrote the above as two separate functions so we can test the intensity function separately from the robot. Let's plot our intensity function."
   ]
  },
  {
   "cell_type": "code",
   "execution_count": null,
   "metadata": {
    "collapsed": false
   },
   "outputs": [],
   "source": [
    "%matplotlib inline\n",
    "\n",
    "import matplotlib.pyplot as plt\n",
    "import numpy as np\n",
    "\n",
    "plt.plot(range(0,31), [get_intensity(x) for x in range(0,31)])\n",
    "\n",
    "plt.xlabel('distance (cm)')\n",
    "plt.ylabel('intensity')\n",
    "plt.title('LED intensity over distance')\n",
    "plt.grid(True)\n",
    "plt.show()"
   ]
  },
  {
   "cell_type": "markdown",
   "metadata": {},
   "source": [
    "We can now subscribe our brightness function."
   ]
  },
  {
   "cell_type": "code",
   "execution_count": null,
   "metadata": {
    "collapsed": true
   },
   "outputs": [],
   "source": [
    "ballSamplesSub = ballSamples.subscribe(led_brightness)"
   ]
  },
  {
   "cell_type": "markdown",
   "metadata": {},
   "source": [
    "We can dispose of our subscription if we don't want our brightness function to remain active."
   ]
  },
  {
   "cell_type": "code",
   "execution_count": null,
   "metadata": {
    "collapsed": false
   },
   "outputs": [],
   "source": [
    "ballSamplesSub.dispose()"
   ]
  },
  {
   "cell_type": "markdown",
   "metadata": {},
   "source": [
    "## Tracking the ball\n",
    "Aldebaran offers a red ball tracker. We will make our own using reactive programming. This tracker gives us more flexibility than the build in tracker, for example we can make the robot transition from looking at the ball to pointing at it. We will still use some functionality of the original tracker."
   ]
  },
  {
   "cell_type": "code",
   "execution_count": null,
   "metadata": {
    "collapsed": false
   },
   "outputs": [],
   "source": [
    "tracker = session.service(\"ALTracker\")\n",
    "tracker.registerTarget(\"RedBall\", 0.04)\n",
    "tracker.track(\"RedBall\")"
   ]
  },
  {
   "cell_type": "markdown",
   "metadata": {},
   "source": [
    "We initialize the robot in the crouching position and get some sensor readings which we later need to reset the arm after tracking."
   ]
  },
  {
   "cell_type": "code",
   "execution_count": null,
   "metadata": {
    "collapsed": false
   },
   "outputs": [],
   "source": [
    "posture = session.service(\"ALRobotPosture\")\n",
    "posture.goToPosture(\"Crouch\", 1.0)\n",
    "\n",
    "motion = session.service(\"ALMotion\")\n",
    "sensor_angles = motion.getAngles([\"LArm\"], True)"
   ]
  },
  {
   "cell_type": "markdown",
   "metadata": {},
   "source": [
    "We set up a stream for detecting whether balls are close or far using a map operation."
   ]
  },
  {
   "cell_type": "code",
   "execution_count": null,
   "metadata": {
    "collapsed": false
   },
   "outputs": [],
   "source": [
    "def point_or_track(close):\n",
    "    if close:\n",
    "        target = tracker.getTargetPosition(0)\n",
    "        tracker.pointAt(\"LArm\", target, 0, 0.5)\n",
    "    else:\n",
    "        tracker.setMode(\"Head\")\n",
    "        motion.setAngles([\"LArm\"], sensor_angles, 0.2)\n",
    "        \n",
    "pointRangeBalls = redBallDistanceSamples.map(lambda distance: distance < 20)\n",
    "pointRangeBallsSub = pointRangeBalls.subscribe(point_or_track)"
   ]
  },
  {
   "cell_type": "markdown",
   "metadata": {},
   "source": [
    "After testing our behavior we can dispose of the subscription."
   ]
  },
  {
   "cell_type": "code",
   "execution_count": null,
   "metadata": {
    "collapsed": false
   },
   "outputs": [],
   "source": [
    "pointRangeBallsSub.dispose()"
   ]
  },
  {
   "cell_type": "markdown",
   "metadata": {},
   "source": [
    "We want to move towards grabbing the ball if it is within reach. Let's try a naive implementation which closes the hand if the ball is very close, and opens it otherwise."
   ]
  },
  {
   "cell_type": "code",
   "execution_count": null,
   "metadata": {
    "collapsed": false
   },
   "outputs": [],
   "source": [
    "def open_or_close(graspable):\n",
    "    if graspable:\n",
    "        motion.closeHand('LHand')\n",
    "    else:\n",
    "        motion.openHand('LHand')\n",
    "\n",
    "graspRangeBalls = redBallDistanceSamples.map(lambda distance: distance < 15)\n",
    "graspRangeBallsSub = graspRangeBalls.subscribe(open_or_close)"
   ]
  },
  {
   "cell_type": "markdown",
   "metadata": {},
   "source": [
    "Again, we should dispose after testing."
   ]
  },
  {
   "cell_type": "code",
   "execution_count": null,
   "metadata": {
    "collapsed": false
   },
   "outputs": [],
   "source": [
    "graspRangeBallsSub.dispose()"
   ]
  },
  {
   "cell_type": "markdown",
   "metadata": {},
   "source": [
    "### Determining which effector to use\n",
    "\n",
    "We want to track objects to the left with the left effector and objects to the right with the right effector. To determine which effector to use, we take the sum of the angle of the head and the angle in the camera frame. We first have to define the means to get the head yaw angle. For this we define a subject which pulls the memory at a predefined interval."
   ]
  },
  {
   "cell_type": "code",
   "execution_count": null,
   "metadata": {
    "collapsed": false
   },
   "outputs": [],
   "source": [
    "class QiPullingMemorySubject(Thread):\n",
    "    def __init__(self, field, session, pull_rate):\n",
    "        Thread.__init__(self)\n",
    "        self.session = session\n",
    "        self.field = field\n",
    "        self.pull_rate = pull_rate / 1000.0\n",
    "        self.stopped = False\n",
    "        self.subject = Subject()\n",
    "        \n",
    "    def run(self):\n",
    "        mem = self.session.service(\"ALMemory\")\n",
    "        #latched_data = 0\n",
    "        while not self.stopped:\n",
    "            data = mem.getData(self.field)\n",
    "            \n",
    "            #if data < latched_data - 0.02 or data > latched_data + 0.02:\n",
    "            self.subject.on_next(data)\n",
    "            #    latched_data = data\n",
    "            time.sleep(self.pull_rate)\n",
    "        \n",
    "    def stop(self):\n",
    "        self.stopped = True\n",
    "        print(\"Stopping\")"
   ]
  },
  {
   "cell_type": "markdown",
   "metadata": {},
   "source": [
    "We then define a specific subject for pulling data from the head yaw position sensor."
   ]
  },
  {
   "cell_type": "code",
   "execution_count": null,
   "metadata": {
    "collapsed": true
   },
   "outputs": [],
   "source": [
    "class HeadYawSubject(QiPullingMemorySubject):\n",
    "    def __init__(self, session):\n",
    "        QiPullingMemorySubject.__init__(self, \"Device/SubDeviceList/HeadYaw/Position/Sensor/Value\", session, 1000)"
   ]
  },
  {
   "cell_type": "markdown",
   "metadata": {},
   "source": [
    "And we start the thread for listening to the head yaw sensor."
   ]
  },
  {
   "cell_type": "code",
   "execution_count": null,
   "metadata": {
    "collapsed": false
   },
   "outputs": [],
   "source": [
    "headYawThread = HeadYawSubject(session)\n",
    "headYawThread.daemon = True\n",
    "headYawThread.start()\n",
    "head_yaw = headYawThread.subject"
   ]
  },
  {
   "cell_type": "markdown",
   "metadata": {},
   "source": [
    "The logic for defining tracking is as follows:\n",
    "* Objects further than 50 cm away are only tracked with the head\n",
    "* Objects within 20 cm and 50 cm are tracked with the head and body\n",
    "* Objects less than 20 cm away are tracked by pointing at them with the end effector"
   ]
  },
  {
   "cell_type": "markdown",
   "metadata": {},
   "source": [
    "We first define the behavior for head tracking."
   ]
  },
  {
   "cell_type": "code",
   "execution_count": null,
   "metadata": {
    "collapsed": true
   },
   "outputs": [],
   "source": [
    "head = distance.filter(lambda d: d >= 50)\n",
    "head_subscription = head.subscribe(head_tracker)"
   ]
  },
  {
   "cell_type": "markdown",
   "metadata": {},
   "source": [
    "Then we define the behavior for head and body tracking."
   ]
  },
  {
   "cell_type": "code",
   "execution_count": null,
   "metadata": {
    "collapsed": true
   },
   "outputs": [],
   "source": [
    "head_body = distance.filter(lambda d: d >= 20 and d < 50)\n",
    "head_body_subscription = head_body.subscribe(head_body_tracker)"
   ]
  },
  {
   "cell_type": "markdown",
   "metadata": {},
   "source": [
    "The behavior for end effector is harder to define. We first want to determine which effector is closest to the ball. To realize this we define a function for both storing the angle of the ball and calculating the distance to the ball."
   ]
  },
  {
   "cell_type": "code",
   "execution_count": null,
   "metadata": {
    "collapsed": false
   },
   "outputs": [],
   "source": [
    "def angle_dist_helper(ball):\n",
    "    return (ball.x, dist2(ball.width, ball.height))"
   ]
  },
  {
   "cell_type": "markdown",
   "metadata": {},
   "source": [
    "We use the helper function on the stream of ball samples."
   ]
  },
  {
   "cell_type": "code",
   "execution_count": null,
   "metadata": {
    "collapsed": true
   },
   "outputs": [],
   "source": [
    "cam_angle_dist = ballSamples.map(angle_dist_helper)"
   ]
  },
  {
   "cell_type": "markdown",
   "metadata": {},
   "source": [
    "We want to filter out balls which are over 20 cm away."
   ]
  },
  {
   "cell_type": "code",
   "execution_count": null,
   "metadata": {
    "collapsed": true
   },
   "outputs": [],
   "source": [
    "cam_angle_dist_filtered = cam_angle_dist.filter(lambda pair: pair[1] < 20)"
   ]
  },
  {
   "cell_type": "markdown",
   "metadata": {},
   "source": [
    "After filtering we can discard the distance information."
   ]
  },
  {
   "cell_type": "code",
   "execution_count": null,
   "metadata": {
    "collapsed": true
   },
   "outputs": [],
   "source": [
    "cam_angle = cam_angle_dist_filtered.map(lambda pair: pair[0])"
   ]
  },
  {
   "cell_type": "markdown",
   "metadata": {},
   "source": [
    "Then we define a function which combines data from the ball stream and the head yaw stream. We also want to filter out events which happened to long ago. To do this we first apply a timestamp to events in bith the camera angle and head yaw streams."
   ]
  },
  {
   "cell_type": "code",
   "execution_count": null,
   "metadata": {
    "collapsed": true
   },
   "outputs": [],
   "source": [
    "cam_angle_timestamped = cam_angle.timestamp()\n",
    "head_yaw_timestamped = head_yaw.timestamp()"
   ]
  },
  {
   "cell_type": "markdown",
   "metadata": {},
   "source": [
    "Then we define a function which will be used for combining both streams."
   ]
  },
  {
   "cell_type": "code",
   "execution_count": null,
   "metadata": {
    "collapsed": true
   },
   "outputs": [],
   "source": [
    "combinator = lambda headYaw, ballAngle: (headYaw.value+ballAngle.value, \n",
    "                                         headYaw.timestamp-ballAngle.timestamp)"
   ]
  },
  {
   "cell_type": "markdown",
   "metadata": {},
   "source": [
    "We combine both streams and apply the combinator function."
   ]
  },
  {
   "cell_type": "code",
   "execution_count": null,
   "metadata": {
    "collapsed": true
   },
   "outputs": [],
   "source": [
    "robot_angle_timestamped = Stream.combine_latest(head_yaw_timestamped, \n",
    "                                                cam_angle_timestamped, \n",
    "                                                combinator)"
   ]
  },
  {
   "cell_type": "markdown",
   "metadata": {},
   "source": [
    "Finally we filter out events which happened too far from each other. We first define a recent function."
   ]
  },
  {
   "cell_type": "code",
   "execution_count": null,
   "metadata": {
    "collapsed": true
   },
   "outputs": [],
   "source": [
    "recent = lambda pair: pair[1].total_seconds() < 1"
   ]
  },
  {
   "cell_type": "markdown",
   "metadata": {},
   "source": [
    "Then we apply this function to the combined stream."
   ]
  },
  {
   "cell_type": "code",
   "execution_count": null,
   "metadata": {
    "collapsed": true
   },
   "outputs": [],
   "source": [
    "robot_angle = robot_angle_timestamped.filter(recent)"
   ]
  },
  {
   "cell_type": "markdown",
   "metadata": {},
   "source": [
    "Finally we determine which effector to use and subscribe our tracker."
   ]
  },
  {
   "cell_type": "code",
   "execution_count": null,
   "metadata": {
    "collapsed": true
   },
   "outputs": [],
   "source": [
    "arm = robot_angle.map(lambda a: \"LArm\" if a[0] > 0 else \"RArm\")\n",
    "arm_subscription = arm.subscribe(arm_tracker)"
   ]
  }
 ],
 "metadata": {
  "kernelspec": {
   "display_name": "Python 2",
   "language": "python",
   "name": "python2"
  },
  "language_info": {
   "codemirror_mode": {
    "name": "ipython",
    "version": 2
   },
   "file_extension": ".py",
   "mimetype": "text/x-python",
   "name": "python",
   "nbconvert_exporter": "python",
   "pygments_lexer": "ipython2",
   "version": "2.7.12"
  }
 },
 "nbformat": 4,
 "nbformat_minor": 0
}
